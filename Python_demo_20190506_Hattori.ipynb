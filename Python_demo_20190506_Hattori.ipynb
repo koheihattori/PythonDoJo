{
 "cells": [
  {
   "cell_type": "markdown",
   "metadata": {},
   "source": [
    "# Anything behind \"#\" is comments. \n",
    "\n",
    "# Each cell can be executed by pressing \"shift\"+\"return\" (or \"shift\"+\"enter\")"
   ]
  },
  {
   "cell_type": "code",
   "execution_count": 1,
   "metadata": {},
   "outputs": [],
   "source": [
    "# import system modules\n",
    "import sys\n",
    "import datetime, time, timeit\n",
    "\n",
    "# import basic modules\n",
    "import numpy\n",
    "import scipy\n",
    "from scipy import integrate\n",
    "from matplotlib import pyplot\n",
    "\n",
    "pyplot.rcParams['ps.useafm'] = True\n",
    "pyplot.rcParams['pdf.use14corefonts'] = True\n",
    "pyplot.rcParams['text.usetex'] = True\n"
   ]
  },
  {
   "cell_type": "markdown",
   "metadata": {},
   "source": [
    "## (1) simple functions"
   ]
  },
  {
   "cell_type": "code",
   "execution_count": 2,
   "metadata": {},
   "outputs": [
    {
     "data": {
      "text/plain": [
       "350"
      ]
     },
     "execution_count": 2,
     "metadata": {},
     "output_type": "execute_result"
    }
   ],
   "source": [
    "# simply calculate 10x35\n",
    "10*35"
   ]
  },
  {
   "cell_type": "code",
   "execution_count": 3,
   "metadata": {},
   "outputs": [
    {
     "data": {
      "text/plain": [
       "3.141592653589793"
      ]
     },
     "execution_count": 3,
     "metadata": {},
     "output_type": "execute_result"
    }
   ],
   "source": [
    "# PI\n",
    "numpy.pi"
   ]
  },
  {
   "cell_type": "code",
   "execution_count": 4,
   "metadata": {},
   "outputs": [
    {
     "data": {
      "text/plain": [
       "12.566370614359172"
      ]
     },
     "execution_count": 4,
     "metadata": {},
     "output_type": "execute_result"
    }
   ],
   "source": [
    "# \n",
    "4*numpy.pi"
   ]
  },
  {
   "cell_type": "code",
   "execution_count": 5,
   "metadata": {},
   "outputs": [
    {
     "name": "stdout",
     "output_type": "stream",
     "text": [
      "12.5663706144\n"
     ]
    }
   ],
   "source": [
    "PI = numpy.pi\n",
    "\n",
    "a = 4*PI\n",
    "\n",
    "# show the result\n",
    "print(a)"
   ]
  },
  {
   "cell_type": "code",
   "execution_count": 6,
   "metadata": {},
   "outputs": [
    {
     "data": {
      "text/plain": [
       "1.2246467991473532e-16"
      ]
     },
     "execution_count": 6,
     "metadata": {},
     "output_type": "execute_result"
    }
   ],
   "source": [
    "#sin (PI) should be zero, and it is indeed (almost) zero\n",
    "numpy.sin(numpy.pi)"
   ]
  },
  {
   "cell_type": "code",
   "execution_count": 7,
   "metadata": {},
   "outputs": [
    {
     "data": {
      "text/plain": [
       "-1.0"
      ]
     },
     "execution_count": 7,
     "metadata": {},
     "output_type": "execute_result"
    }
   ],
   "source": [
    "#cos (PI) should be -1, and it is indeed -1.\n",
    "numpy.cos(numpy.pi)"
   ]
  },
  {
   "cell_type": "markdown",
   "metadata": {},
   "source": [
    "## (2) define function"
   ]
  },
  {
   "cell_type": "code",
   "execution_count": 8,
   "metadata": {},
   "outputs": [],
   "source": [
    "def deg_to_radian(degree):\n",
    "    radian = degree/180.*numpy.pi\n",
    "    return radian\n",
    "    "
   ]
  },
  {
   "cell_type": "code",
   "execution_count": 9,
   "metadata": {},
   "outputs": [
    {
     "data": {
      "text/plain": [
       "-1.0"
      ]
     },
     "execution_count": 9,
     "metadata": {},
     "output_type": "execute_result"
    }
   ],
   "source": [
    "numpy.cos((deg_to_radian(180)))"
   ]
  },
  {
   "cell_type": "markdown",
   "metadata": {},
   "source": [
    "## (3) plot function"
   ]
  },
  {
   "cell_type": "code",
   "execution_count": 10,
   "metadata": {},
   "outputs": [],
   "source": [
    "# equally spaced 51 values between (-180 deg) and (540 deg):\n",
    "list_x = numpy.linspace(-180, 540, 51)\n",
    "\n",
    "# cos-value for list_x\n",
    "list_y = numpy.cos((deg_to_radian(list_x)))"
   ]
  },
  {
   "cell_type": "code",
   "execution_count": 11,
   "metadata": {},
   "outputs": [
    {
     "data": {
      "text/plain": [
       "array([-180. , -165.6, -151.2, -136.8, -122.4, -108. ,  -93.6,  -79.2,\n",
       "        -64.8,  -50.4,  -36. ,  -21.6,   -7.2,    7.2,   21.6,   36. ,\n",
       "         50.4,   64.8,   79.2,   93.6,  108. ,  122.4,  136.8,  151.2,\n",
       "        165.6,  180. ,  194.4,  208.8,  223.2,  237.6,  252. ,  266.4,\n",
       "        280.8,  295.2,  309.6,  324. ,  338.4,  352.8,  367.2,  381.6,\n",
       "        396. ,  410.4,  424.8,  439.2,  453.6,  468. ,  482.4,  496.8,\n",
       "        511.2,  525.6,  540. ])"
      ]
     },
     "execution_count": 11,
     "metadata": {},
     "output_type": "execute_result"
    }
   ],
   "source": [
    "list_x"
   ]
  },
  {
   "cell_type": "code",
   "execution_count": 12,
   "metadata": {},
   "outputs": [
    {
     "data": {
      "text/plain": [
       "array([-1.        , -0.96858316, -0.87630668, -0.72896863, -0.53582679,\n",
       "       -0.30901699, -0.06279052,  0.18738131,  0.42577929,  0.63742399,\n",
       "        0.80901699,  0.92977649,  0.9921147 ,  0.9921147 ,  0.92977649,\n",
       "        0.80901699,  0.63742399,  0.42577929,  0.18738131, -0.06279052,\n",
       "       -0.30901699, -0.53582679, -0.72896863, -0.87630668, -0.96858316,\n",
       "       -1.        , -0.96858316, -0.87630668, -0.72896863, -0.53582679,\n",
       "       -0.30901699, -0.06279052,  0.18738131,  0.42577929,  0.63742399,\n",
       "        0.80901699,  0.92977649,  0.9921147 ,  0.9921147 ,  0.92977649,\n",
       "        0.80901699,  0.63742399,  0.42577929,  0.18738131, -0.06279052,\n",
       "       -0.30901699, -0.53582679, -0.72896863, -0.87630668, -0.96858316,\n",
       "       -1.        ])"
      ]
     },
     "execution_count": 12,
     "metadata": {},
     "output_type": "execute_result"
    }
   ],
   "source": [
    "list_y"
   ]
  },
  {
   "cell_type": "code",
   "execution_count": 13,
   "metadata": {},
   "outputs": [
    {
     "data": {
      "image/png": "[encoded data removed]",
      "text/plain": [
       "<Figure size 432x288 with 1 Axes>"
      ]
     },
     "metadata": {
      "needs_background": "light"
     },
     "output_type": "display_data"
    }
   ],
   "source": [
    "pyplot.plot(list_x, list_y, '-')\n",
    "pyplot.show()"
   ]
  },
  {
   "cell_type": "code",
   "execution_count": 14,
   "metadata": {},
   "outputs": [
    {
     "data": {
      "image/png": "[encoded data removed]",
      "text/plain": [
       "<Figure size 432x288 with 1 Axes>"
      ]
     },
     "metadata": {
      "needs_background": "light"
     },
     "output_type": "display_data"
    }
   ],
   "source": [
    "# decorating figure\n",
    "pyplot.plot(list_x, list_y, '-', label=r'$y = \\cos (x)$')\n",
    "pyplot.xlabel(r'$x$',fontsize=25)\n",
    "pyplot.ylabel(r'$y$',fontsize=25)\n",
    "pyplot.xticks(fontsize=20)\n",
    "pyplot.yticks(fontsize=20)\n",
    "\n",
    "pyplot.legend(fontsize=15)\n",
    "\n",
    "pyplot.savefig('cos_x.png')\n",
    "\n",
    "pyplot.show()"
   ]
  },
  {
   "cell_type": "markdown",
   "metadata": {},
   "source": [
    "## (4) Integration "
   ]
  },
  {
   "cell_type": "code",
   "execution_count": 15,
   "metadata": {},
   "outputs": [],
   "source": [
    "def gauss_func(x):\n",
    "    return 1./numpy.sqrt(2.*numpy.pi)*numpy.exp(-0.5*x*x)\n",
    "\n",
    "    "
   ]
  },
  {
   "cell_type": "code",
   "execution_count": 16,
   "metadata": {},
   "outputs": [
    {
     "data": {
      "image/png": "[encoded data removed]",
      "text/plain": [
       "<Figure size 432x288 with 1 Axes>"
      ]
     },
     "metadata": {
      "needs_background": "light"
     },
     "output_type": "display_data"
    }
   ],
   "source": [
    "list_x2 = numpy.linspace(-3,3,101)\n",
    "\n",
    "pyplot.plot(list_x2, gauss_func(list_x2), '-', label='Gauss')\n",
    "pyplot.xlabel(r'$x$',fontsize=25)\n",
    "pyplot.ylabel(r'$y$',fontsize=25)\n",
    "pyplot.xticks(fontsize=20)\n",
    "pyplot.yticks(fontsize=20)\n",
    "\n",
    "pyplot.legend(fontsize=15)\n",
    "pyplot.show()"
   ]
  },
  {
   "cell_type": "code",
   "execution_count": 17,
   "metadata": {},
   "outputs": [],
   "source": [
    "# integration of gaussian function at -1<x<1 \n",
    "\n",
    "# The result is stored in \"result2\"\n",
    "result2 = scipy.integrate.quad(gauss_func, -1, 1)"
   ]
  },
  {
   "cell_type": "code",
   "execution_count": 18,
   "metadata": {},
   "outputs": [
    {
     "name": "stdout",
     "output_type": "stream",
     "text": [
      "I show the contents of result1:\n",
      "(0.682689492137086, 7.579375928402476e-15)\n",
      " \n",
      "The first element is the integrated value. Note that index begins from zero.\n",
      "result1[0]:\n",
      "0.682689492137\n",
      " \n",
      "The second element is the integrated value.\n",
      "result1[1]:\n",
      "7.5793759284e-15\n"
     ]
    }
   ],
   "source": [
    "# Show the result:\n",
    "print(\"I show the contents of result1:\")\n",
    "print(result2)\n",
    "print(' ')\n",
    "\n",
    "print(\"The first element is the integrated value. Note that index begins from zero.\")\n",
    "print(\"result1[0]:\")\n",
    "print(result2[0])\n",
    "print(' ')\n",
    "\n",
    "print(\"The second element is the integrated value.\")\n",
    "print(\"result1[1]:\")\n",
    "print(result2[1])\n"
   ]
  },
  {
   "cell_type": "code",
   "execution_count": 19,
   "metadata": {},
   "outputs": [
    {
     "data": {
      "image/png": "[encoded data removed]",
      "text/plain": [
       "<Figure size 432x288 with 1 Axes>"
      ]
     },
     "metadata": {
      "needs_background": "light"
     },
     "output_type": "display_data"
    }
   ],
   "source": [
    "list_x2 = numpy.linspace(-3,3,501)\n",
    "gauss_2 = gauss_func(list_x2)\n",
    "gauss_bottom_2 = list_x2*0.\n",
    "filter_x2 = (-1<list_x2) & (list_x2<1)\n",
    "\n",
    "pyplot.plot(list_x2, gauss_2, '-', label='Gauss')\n",
    "pyplot.axvline(x=-1, linestyle='dashed', c ='k')\n",
    "pyplot.axvline(x=1,  linestyle='dashed', c ='k')\n",
    "\n",
    "pyplot.fill_between(list_x2[filter_x2], \n",
    "                    gauss_2[filter_x2],\n",
    "                    gauss_bottom_2[filter_x2],\n",
    "                    color='grey', alpha=0.4)\n",
    "\n",
    "pyplot.xlabel(r'$x$',fontsize=25)\n",
    "pyplot.ylabel(r'$y$',fontsize=25)\n",
    "pyplot.xticks(fontsize=20)\n",
    "pyplot.yticks(fontsize=20)\n",
    "\n",
    "fig_title = r'$\\int_{-1}^{1} \\mathrm{d}x \\; \\frac{1}{\\sqrt{2 \\pi}} \\exp \\left[ - \\frac{1}{2} x^2 \\right] = %.3lf$' % (result2[0])\n",
    "pyplot.title(fig_title, fontsize=20)\n",
    "\n",
    "\n",
    "pyplot.legend(fontsize=15)\n",
    "\n",
    "pyplot.show()"
   ]
  },
  {
   "cell_type": "markdown",
   "metadata": {},
   "source": [
    "## (4-1) Integration can be done even at infinitely large range(!)"
   ]
  },
  {
   "cell_type": "code",
   "execution_count": 20,
   "metadata": {},
   "outputs": [
    {
     "name": "stdout",
     "output_type": "stream",
     "text": [
      "(0.9999999999999997, 1.017819145094224e-08)\n"
     ]
    }
   ],
   "source": [
    "# integration of gaussian function at -infinity<x<infinity\n",
    "\n",
    "# The result is stored in \"result3\"\n",
    "result3 = scipy.integrate.quad(gauss_func, -numpy.inf, numpy.inf)\n",
    "print(result3)\n",
    "\n"
   ]
  },
  {
   "cell_type": "code",
   "execution_count": 21,
   "metadata": {},
   "outputs": [
    {
     "data": {
      "image/png": "[encoded data removed]",
      "text/plain": [
       "<Figure size 432x288 with 1 Axes>"
      ]
     },
     "metadata": {
      "needs_background": "light"
     },
     "output_type": "display_data"
    }
   ],
   "source": [
    "list_x3 = numpy.linspace(-3,3,501)\n",
    "gauss_3 = gauss_func(list_x2)\n",
    "gauss_bottom_3 = list_x3*0.\n",
    "\n",
    "pyplot.plot(list_x3, gauss_3, '-', label='Gauss')\n",
    "#pyplot.axvline(x=-1, linestyle='dashed', c ='k')\n",
    "#pyplot.axvline(x=1,  linestyle='dashed', c ='k')\n",
    "\n",
    "pyplot.fill_between(list_x3, \n",
    "                    gauss_3,\n",
    "                    gauss_bottom_3,\n",
    "                    color='grey', alpha=0.4)\n",
    "\n",
    "pyplot.xlabel(r'$x$',fontsize=25)\n",
    "pyplot.ylabel(r'$y$',fontsize=25)\n",
    "pyplot.xticks(fontsize=20)\n",
    "pyplot.yticks(fontsize=20)\n",
    "\n",
    "fig_title = r'$\\int_{-\\infty}^{\\infty} \\mathrm{d}x \\; \\frac{1}{\\sqrt{2 \\pi}} \\exp \\left[ - \\frac{1}{2} x^2 \\right] = %.3lf$' % (result3[0])\n",
    "pyplot.title(fig_title, fontsize=20)\n",
    "\n",
    "\n",
    "pyplot.legend(fontsize=15)\n",
    "\n",
    "pyplot.show()"
   ]
  },
  {
   "cell_type": "markdown",
   "metadata": {},
   "source": [
    "## (5) Statistics"
   ]
  },
  {
   "cell_type": "code",
   "execution_count": 22,
   "metadata": {},
   "outputs": [
    {
     "name": "stdout",
     "output_type": "stream",
     "text": [
      "0.4076\n"
     ]
    }
   ],
   "source": [
    "# Given N people. What is the probability that at least a pair of person have an identical birthday. \n",
    "\n",
    "# set random seed to be 123.\n",
    "numpy.random.seed(123)\n",
    "\n",
    "N_trial = 10000\n",
    "\n",
    "list_yes = numpy.zeros(N_trial)\n",
    "N=20\n",
    "\n",
    "for i in range(N_trial):\n",
    "    list_birth = numpy.random.randint(low=0, high=367, size=N)\n",
    "    list_birth_unique = numpy.unique(list_birth)\n",
    "    \n",
    "    len_unique = len(list_birth_unique)\n",
    "    \n",
    "    if (len_unique<N):\n",
    "        list_yes[i]=1.\n",
    "\n",
    "print(numpy.sum(list_yes)/float(N_trial))\n"
   ]
  },
  {
   "cell_type": "code",
   "execution_count": 23,
   "metadata": {},
   "outputs": [
    {
     "name": "stdout",
     "output_type": "stream",
     "text": [
      "0\n",
      "30\n",
      "60\n",
      "90\n",
      "120\n",
      "150\n",
      "180\n",
      "210\n",
      "240\n",
      "270\n",
      "300\n",
      "330\n",
      "360\n"
     ]
    }
   ],
   "source": [
    "\n",
    "# set random seed to be 123.\n",
    "\n",
    "N_trial = 1000\n",
    "\n",
    "max_N = 367\n",
    "list_frac = numpy.zeros(max_N)\n",
    "\n",
    "\n",
    "\n",
    "def frac_pair(N):\n",
    "    numpy.random.seed(123)\n",
    "\n",
    "    list_yes = numpy.zeros(N_trial)\n",
    "\n",
    "    for i in range(N_trial):\n",
    "        list_birth = numpy.random.randint(low=0, high=367, size=N)\n",
    "        list_birth_unique = numpy.unique(list_birth)\n",
    "\n",
    "        len_unique = len(list_birth_unique)\n",
    "\n",
    "        if (len_unique<N):\n",
    "            list_yes[i]=1.\n",
    "    \n",
    "    frac = numpy.sum(list_yes)/float(N_trial)\n",
    "    return frac\n",
    "\n",
    "\n",
    "for N in range(max_N):\n",
    "    list_frac[N] = frac_pair(N)\n",
    "    if (N%30==0):\n",
    "        print(N)"
   ]
  },
  {
   "cell_type": "code",
   "execution_count": 24,
   "metadata": {},
   "outputs": [
    {
     "data": {
      "image/png": "[encoded data removed]",
      "text/plain": [
       "<Figure size 432x288 with 1 Axes>"
      ]
     },
     "metadata": {
      "needs_background": "light"
     },
     "output_type": "display_data"
    },
    {
     "data": {
      "image/png": "[encoded data removed]",
      "text/plain": [
       "<Figure size 432x288 with 1 Axes>"
      ]
     },
     "metadata": {
      "needs_background": "light"
     },
     "output_type": "display_data"
    }
   ],
   "source": [
    "pyplot.plot(list_frac, '-')\n",
    "pyplot.xlabel(r'Number of people $N$', fontsize=20)\n",
    "pyplot.title(r'Probability that identical birthday pair appears', fontsize=20)\n",
    "\n",
    "pyplot.show()\n",
    "\n",
    "pyplot.plot(list_frac, '-')\n",
    "pyplot.xlim([0,40])\n",
    "pyplot.axhline(y=0.5, linestyle='dashed', color='r')\n",
    "pyplot.axvline(x=23, linestyle='dashed', color='m')\n",
    "pyplot.xlabel(r'Number of people $N$', fontsize=20)\n",
    "pyplot.title(r'Probability that identical birthday pair appears', fontsize=20)\n",
    "\n",
    "pyplot.show()\n",
    "\n"
   ]
  },
  {
   "cell_type": "markdown",
   "metadata": {},
   "source": [
    "## (6) Vectorization and speed-up (Numpy)"
   ]
  },
  {
   "cell_type": "code",
   "execution_count": 25,
   "metadata": {},
   "outputs": [
    {
     "data": {
      "text/plain": [
       "array([ 1.,  9., 25., 49.])"
      ]
     },
     "execution_count": 25,
     "metadata": {},
     "output_type": "execute_result"
    }
   ],
   "source": [
    "list_array_example = numpy.array([1., 3., 5., 7.])\n",
    "\n",
    "list_array_example**2"
   ]
  },
  {
   "cell_type": "code",
   "execution_count": 26,
   "metadata": {},
   "outputs": [
    {
     "name": "stdout",
     "output_type": "stream",
     "text": [
      "12.2362880707\n",
      "0.0284521579742\n",
      "Vectorization accelerates the calculation by a factor of 430.065\n"
     ]
    }
   ],
   "source": [
    "# Vectorize\n",
    "list_array = numpy.arange(1000)\n",
    "\n",
    "\n",
    "N_loop = 10000\n",
    "\n",
    "\n",
    "# for-loop\n",
    "list_array2 = numpy.zeros(len(list_array))\n",
    "start2 = timeit.default_timer()#datetime.datetime.now()\n",
    "for i in range(N_loop):\n",
    "    for i in range(len(list_array)):\n",
    "        list_array2[i]=list_array[i]**2\n",
    "end2 = timeit.default_timer()#datetime.datetime.now()\n",
    "\n",
    "time2 = end2-start2\n",
    "print(time2) \n",
    "\n",
    "#print(list_array2)\n",
    "\n",
    "\n",
    "# vectorization\n",
    "list_array3 = numpy.zeros(len(list_array))\n",
    "\n",
    "start3 = timeit.default_timer()#datetime.datetime.now()\n",
    "for i in range(N_loop):\n",
    "    list_array3=list_array**2\n",
    "end3 = timeit.default_timer()#datetime.datetime.now()\n",
    "\n",
    "time3 = end3-start3\n",
    "print(time3)\n",
    "\n",
    "#print(list_array3)\n",
    "\n",
    "print('Vectorization accelerates the calculation by a factor of %.3lf' % (time2/time3))"
   ]
  },
  {
   "cell_type": "code",
   "execution_count": null,
   "metadata": {},
   "outputs": [],
   "source": []
  }
 ],
 "metadata": {
  "kernelspec": {
   "display_name": "Python 2",
   "language": "python",
   "name": "python2"
  },
  "language_info": {
   "codemirror_mode": {
    "name": "ipython",
    "version": 2
   },
   "file_extension": ".py",
   "mimetype": "text/x-python",
   "name": "python",
   "nbconvert_exporter": "python",
   "pygments_lexer": "ipython2",
   "version": "2.7.15"
  }
 },
 "nbformat": 4,
 "nbformat_minor": 2
}
